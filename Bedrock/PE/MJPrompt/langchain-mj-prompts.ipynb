{
 "cells": [
  {
   "cell_type": "markdown",
   "id": "2f7e2b97-40a3-41c3-8d89-816f26715a5d",
   "metadata": {},
   "source": [
    "# Bedrock with LangChain using a Prompt that includes Context\n",
    "\n",
    "please refer the detail : https://github.com/aws-samples/amazon-bedrock-workshop/blob/main/01_Generation/02_contextual_generation.ipynb"
   ]
  },
  {
   "cell_type": "markdown",
   "id": "8438f471-f23d-4781-a48e-0f58a7fea184",
   "metadata": {},
   "source": [
    "## install dependencies"
   ]
  },
  {
   "cell_type": "code",
   "execution_count": 1,
   "id": "88c727ce-2a93-4c13-aabd-fdbcb2165c22",
   "metadata": {
    "tags": []
   },
   "outputs": [
    {
     "name": "stdout",
     "output_type": "stream",
     "text": [
      "Requirement already satisfied: boto3 in /home/ec2-user/anaconda3/envs/python3/lib/python3.10/site-packages (1.34.32)\n",
      "Requirement already satisfied: botocore<1.35.0,>=1.34.32 in /home/ec2-user/anaconda3/envs/python3/lib/python3.10/site-packages (from boto3) (1.34.32)\n",
      "Requirement already satisfied: jmespath<2.0.0,>=0.7.1 in /home/ec2-user/anaconda3/envs/python3/lib/python3.10/site-packages (from boto3) (1.0.1)\n",
      "Requirement already satisfied: s3transfer<0.11.0,>=0.10.0 in /home/ec2-user/anaconda3/envs/python3/lib/python3.10/site-packages (from boto3) (0.10.0)\n",
      "Requirement already satisfied: python-dateutil<3.0.0,>=2.1 in /home/ec2-user/anaconda3/envs/python3/lib/python3.10/site-packages (from botocore<1.35.0,>=1.34.32->boto3) (2.8.2)\n",
      "Requirement already satisfied: urllib3<2.1,>=1.25.4 in /home/ec2-user/anaconda3/envs/python3/lib/python3.10/site-packages (from botocore<1.35.0,>=1.34.32->boto3) (2.0.7)\n",
      "Requirement already satisfied: six>=1.5 in /home/ec2-user/anaconda3/envs/python3/lib/python3.10/site-packages (from python-dateutil<3.0.0,>=2.1->botocore<1.35.0,>=1.34.32->boto3) (1.16.0)\n"
     ]
    }
   ],
   "source": [
    "# dependencies\n",
    "!pip install --upgrade boto3"
   ]
  },
  {
   "cell_type": "code",
   "execution_count": 1,
   "id": "ac01d965-2782-417e-8f1e-b955a78c507d",
   "metadata": {
    "tags": []
   },
   "outputs": [
    {
     "name": "stdout",
     "output_type": "stream",
     "text": [
      "Create new client\n",
      "  Using region: None\n",
      "boto3 Bedrock client successfully created!\n",
      "bedrock-runtime(https://bedrock-runtime.us-east-1.amazonaws.com)\n"
     ]
    }
   ],
   "source": [
    "import json\n",
    "import os\n",
    "import sys\n",
    "\n",
    "import boto3\n",
    "import botocore\n",
    "\n",
    "module_path = \"..\"\n",
    "sys.path.append(os.path.abspath(module_path))\n",
    "from utils import bedrock, print_ww\n",
    "\n",
    "boto3_bedrock = bedrock.get_bedrock_client()"
   ]
  },
  {
   "cell_type": "markdown",
   "id": "b0f0bcc2-4ccf-49c9-9816-ecd5b5f0213e",
   "metadata": {},
   "source": [
    "## mj prompt generator"
   ]
  },
  {
   "cell_type": "code",
   "execution_count": 2,
   "id": "30852154-a9f8-460b-b2ec-6deb3879f363",
   "metadata": {
    "tags": []
   },
   "outputs": [],
   "source": [
    "template_examples = \"\"\"\n",
    "PROMPT EXAMPLE:\n",
    "Conjoined twins, side attachment, grungy, high contrast, cinematic ambiance, ultra-realism, deep hues, --ar 16:9 --q 2\n",
    "PROMPT EXAMPLE:\n",
    "Twins, divergent expressions, chiaroscuro lighting, moody, in the style of Annie Leibovitz, --ar 16:9 --q 2\n",
    "PROMPT EXAMPLE:\n",
    "Full-body blonde, brown jacket, DSLR shot, Canon EOS 5D, EF 50mm lens, ISO: 32,000, Shutter: 8000 second\n",
    "PROMPT EXAMPLE:\n",
    "Profile view, blonde woman, casual denim, city backdrop, Nikon D850, prime 85mm lens, --ar 3:4 --q 2\n",
    "PROMPT EXAMPLE:\n",
    "Crimson sunset over sea at dusk, vivid, lifelike, wide-angle, depth, dynamic illumination --ar 7:4\n",
    "PROMPT EXAMPLE:\n",
    "Twilight horizon, sea meeting sky, moody blue palette, reminiscent of Hiroshi Sugimoto seascapes --ar 7:4\n",
    "PROMPT EXAMPLE:\n",
    "White-haired girl, car filled with flowers, inspired by Rinko Kawauchi, naturalistic poses, vibrant floral overflow, Fujifilm XT4 perspective --q 2 --v 5 --ar 3:2\n",
    "PROMPT EXAMPLE:\n",
    "Male figure, vintage convertible, cascade of autumn leaves, evoking Chris Burkard's aesthetics, retro vibrancy, Canon EOS R6 capture --q 2 --v 5 --ar 16:9\n",
    "PROMPT EXAMPLE:\n",
    "Detailed shot, astronaut beside a serene lake, neon geometry backdrop, reflections, night ambiance, Fujifilm XT3 capture\n",
    "PROMPT EXAMPLE:\n",
    "Astronaut, hovering drone lights, misty lake morning, ethereal, shot on Sony Alpha 7R IV\n",
    "PROMPT EXAMPLE:\n",
    "Super Mario sprinting, Mushroom Kingdom panorama, ultra-high res, 3D rendition, trending game visuals --v 5.2 --ar 2:3 --s 250 --q 2\n",
    "PROMPT EXAMPLE:\n",
    "Sonic dashing, Green Hill Zone, dynamic motion blur, Sega Genesis retro feel, vibrant and iconic --ar 2:3\n",
    "PROMPT EXAMPLE:\n",
    "Hyper-detailed photo, mason jar containing a nebula, cosmic fusion with mundane, Sony a9 II, wide-angle, sci-fi inspiration --ar 16:9\n",
    "PROMPT EXAMPLE:\n",
    "Crystal ball, galaxy swirling within, juxtaposed against a bedroom setting, Canon EOS R5, sharp foreground, dreamy background --ar 16:9 --s 500\n",
    "PROMPT EXAMPLE:\n",
    "Pixar-inspired render, cat's seaside adventure, vibrant tones echoing \"Finding Nemo\", playful antics, sunny ambiance --v 5.2 --ar 9:16\n",
    "PROMPT EXAMPLE:\n",
    "DreamWorks-style art, dog's beach day out, hues reminiscent of \"Madagascar\", lively, waves crashing playfully --v 5.2 --stylize 1000 --ar 21:9\n",
    "PROMPT EXAMPLE:\n",
    "Vivid skyscraper, bustling city, classic cartoon blend with photo-realistic landscape, rich textures, bygone and modern melding, bustling streets --ar 101:128 --s 750 --niji 5\n",
    "PROMPT EXAMPLE:\n",
    "Gothic cathedral, steampunk city backdrop, Monet-inspired skies, urban vibrancy meets historic reverence, bustling marketplaces --ar 101:128 --niji 5\n",
    "PROMPT EXAMPLE:\n",
    "Cinematic frame, man in military attire, post-apocalyptic LA, overgrown streets, IMAX 65mm perspective, sunlit --ar 21:9 --style raw\n",
    "PROMPT EXAMPLE:\n",
    "Cinematic portrayal, female survivor, desert city remnants, sun setting, IMAX 65mm vision, golden tones --ar 21:9 --style raw\n",
    "PROMPT EXAMPLE:\n",
    "Futuristic sunglasses, cyberpunk essence, 3D data particles surrounding, 8K brilliance, neon interplay --style raw --ar 16:9\n",
    "\"\"\""
   ]
  },
  {
   "cell_type": "code",
   "execution_count": 3,
   "id": "ec6fa621-5847-4940-8043-caae43a0bae0",
   "metadata": {
    "tags": []
   },
   "outputs": [],
   "source": [
    "from langchain import LLMChain, PromptTemplate\n",
    "\n",
    "template_en = \"\"\"Assume the role of a seasoned photographer in a future where AI drives art. \n",
    "Collaborate with me to craft intricate prompts tailored for Midjourney, \n",
    "an AI-art generator converting words into mesmerizing visuals.\n",
    "\n",
    "<history>\n",
    "{history}\n",
    "</history>\n",
    "\n",
    "<input>\n",
    "Human: {input}\n",
    "</input>\n",
    "\n",
    "<Objective>\n",
    "Transform basic ideas into detailed, evocative prompts, maximizing Midjourney's potential:\n",
    "- Emphasize nouns and adjectives, specifying image content and style.\n",
    "- Infuse references from pop culture, iconic artists, and specific artistic mediums.\n",
    "- For every concept, devise two unique prompt variations.\n",
    "- Refer <history> and generate {number} short Midjourney prompts about: <input>, use {language} as output language.\n",
    "- the output should be listed in bulletin.\n",
    "</Objective>\n",
    "\n",
    "<examples>\n",
    "{examples}\n",
    "</examples>\n",
    "\n",
    "Pull from the above <examples> and infuse your creativity. \n",
    "Think of how you might visualize literature's most iconic scenes, reimagine historic events, or even translate music into visual art. \n",
    "The possibilities are endless. Dive deep, and let's create together!\n",
    "\n",
    "AI Assistant:\"\"\"\n",
    "\n",
    "template_cn = \"\"\" 假设你是一个在未来AI主导艺术的老练摄影师。与我合作制定针对Midjourney(一个将语言转换成迷人视觉效果的AI艺术生成器)的精心设计的提示词。\n",
    "<history>\n",
    "{history}\n",
    "</history>\n",
    "\n",
    "<input>\n",
    "Human: {input}\n",
    "</input>\n",
    "\n",
    "<Objective>\n",
    "- 将基本的想法转化为详细生动的提示词,以发挥Midjourney的最大潜力:\n",
    "- 强调名词和形容词,明确图像的内容和风格。\n",
    "- 混入来自流行文化、标志性艺术家和特定艺术流派的元素。\n",
    "- 为每个概念设计两个独特的提示词变体。 \n",
    "- 参考<history>,为<input>生成{number}个简短的Midjourney提示词, 采用{language}作为输出语言。\n",
    "- 使用json输出\n",
    "</Objective>\n",
    "\n",
    "<examples>\n",
    "{examples}\n",
    "</examples>\n",
    "\n",
    "参考上面的<examples>,发挥你的创造力。\n",
    "想象你会如何将文学史上最具标志性的场景可视化,重塑历史事件,甚至将音乐转化为视觉艺术。\n",
    "可能性是无限的。深入探索,让我们一起创作!\n",
    "\n",
    "AI Assistant:\"\"\"\n",
    "\n",
    "PROMPT_EN = PromptTemplate(input_variables=[\"history\", \"input\", \"number\", \"language\"], template=template_en.replace(\"{examples}\", template_examples))\n",
    "PROMPT_CN = PromptTemplate(input_variables=[\"history\", \"input\", \"number\", \"language\"], template=template_cn.replace(\"{examples}\", template_examples))"
   ]
  },
  {
   "cell_type": "code",
   "execution_count": 4,
   "id": "330cf2a6-7489-43fc-a305-504a792e2cf9",
   "metadata": {
    "tags": []
   },
   "outputs": [],
   "source": [
    "from langchain.chains import ConversationChain\n",
    "from langchain.memory import ConversationBufferMemory\n",
    "from langchain.memory import ConversationKGMemory\n",
    "from langchain.chains.conversation.memory import ConversationSummaryMemory\n",
    "from langchain.chains.conversation.memory import ConversationBufferWindowMemory\n",
    "\n",
    "from langchain.callbacks.streaming_stdout import StreamingStdOutCallbackHandler\n",
    "from langchain_community.llms import Bedrock\n",
    "\n",
    "inference_modifier = {'max_tokens_to_sample':4096, \n",
    "                      \"temperature\":0.85,\n",
    "                      \"top_k\":250,\n",
    "                      \"top_p\":1,\n",
    "                      \"stop_sequences\": [\"\\n\\nHuman\"]\n",
    "                     }\n",
    "\n",
    "llm = Bedrock(\n",
    "    model_id=\"anthropic.claude-v2\",\n",
    "    streaming=True,\n",
    "    callbacks=[StreamingStdOutCallbackHandler()],\n",
    "    model_kwargs=inference_modifier,\n",
    ")\n",
    "\n",
    "memory_en = ConversationBufferMemory(memory_key=\"history\", input_key=\"input\")\n",
    "llm_chain_en = LLMChain(\n",
    "    llm=llm,\n",
    "    prompt=PROMPT_EN,\n",
    "    verbose=False,\n",
    "    memory=memory_en,\n",
    ")\n",
    "\n",
    "memory_cn = ConversationBufferMemory(memory_key=\"history\", input_key=\"input\")\n",
    "llm_chain_cn = LLMChain(\n",
    "    llm=llm,\n",
    "    prompt=PROMPT_CN,\n",
    "    verbose=False,\n",
    "    memory=memory_cn,\n",
    ")\n"
   ]
  },
  {
   "cell_type": "code",
   "execution_count": 5,
   "id": "f3047415-17b0-4e9e-80a2-cd6746a75275",
   "metadata": {
    "tags": []
   },
   "outputs": [
    {
     "name": "stdout",
     "output_type": "stream",
     "text": [
      " Here are 5 short Midjourney prompts about John Wick:\n",
      "\n",
      "- John Wick walking into neon-lit nightclub, shallow depth of field, cinematic lighting, reminiscent of John Wick movie poster, Sony Venice camera, 21:9 aspect ratio --q 2 \n",
      "- John Wick seated alone at a diner counter, moody lighting, desaturated urban palette, subtle bokeh background, photojournalistic style, Canon EOS-1D X Mark II, 16:9 aspect ratio  --q 2\n",
      "- John Wick firing pistol, ultra-detailed muzzle flash, cinematic framing, high contrast palette, inspired by John Wick fight scenes, Arri Alexa Mini, 2.39:1 aspect ratio --q 2\n",
      "- John Wick sprinting down rainy alley, motion blur on water droplets, dark cityscape ambience, dramatic lighting, gritty and tense mood, RED Weapon Helium 8K camera, 16:9 aspect ratio --q 2\n",
      "- Close-up portrait of Keanu Reeves as John Wick, intense gaze, cinematic lighting, shadows accentuating features, reminiscent of John Wick movie key art, Fujifilm GFX 100S, 3:2 aspect ratio --q 2"
     ]
    },
    {
     "data": {
      "text/plain": [
       "' Here are 5 short Midjourney prompts about John Wick:\\n\\n- John Wick walking into neon-lit nightclub, shallow depth of field, cinematic lighting, reminiscent of John Wick movie poster, Sony Venice camera, 21:9 aspect ratio --q 2 \\n- John Wick seated alone at a diner counter, moody lighting, desaturated urban palette, subtle bokeh background, photojournalistic style, Canon EOS-1D X Mark II, 16:9 aspect ratio  --q 2\\n- John Wick firing pistol, ultra-detailed muzzle flash, cinematic framing, high contrast palette, inspired by John Wick fight scenes, Arri Alexa Mini, 2.39:1 aspect ratio --q 2\\n- John Wick sprinting down rainy alley, motion blur on water droplets, dark cityscape ambience, dramatic lighting, gritty and tense mood, RED Weapon Helium 8K camera, 16:9 aspect ratio --q 2\\n- Close-up portrait of Keanu Reeves as John Wick, intense gaze, cinematic lighting, shadows accentuating features, reminiscent of John Wick movie key art, Fujifilm GFX 100S, 3:2 aspect ratio --q 2'"
      ]
     },
     "execution_count": 5,
     "metadata": {},
     "output_type": "execute_result"
    }
   ],
   "source": [
    "llm_chain_en.predict(input='John Wick', number=5, language=\"English\")\n"
   ]
  },
  {
   "cell_type": "code",
   "execution_count": 6,
   "id": "effeb06e-57fb-4e93-8fe2-3ecc081dd8c0",
   "metadata": {
    "tags": []
   },
   "outputs": [
    {
     "name": "stdout",
     "output_type": "stream",
     "text": [
      " 您给出的输入是“赵本山”,以下是我生成的3组Midjourney提示词:\n",
      "\n",
      "{\n",
      "  \"prompts\": [\n",
      "    \"中年男子,皮肤黝黑,眼神犀利,着一件旧夹克,坐在一张木椅上表演相声,舞台背景是砖墙和红色帷幕,照明柔和,模糊的观众席,舞台正中央,单人特写,--ar 16:9 --q 2\",\n",
      "    \"笑脸多层叠影,五官扭曲变形,颜色鲜艳,如梦如幻,意向模糊,极富动感,立体主义和超现实主义融合,充满激情--ar 1:1 --q 2\", \n",
      "    \"老年男子,头戴软帽,穿中山装,坐在凳子上说相声,舞台背景是古镇夜景,角度侧面仰视,台下观众席里坐满了人,场景热闹,色调昏黄--ar 9:16 --q 2\"\n",
      "  ]\n",
      "}"
     ]
    },
    {
     "data": {
      "text/plain": [
       "' 您给出的输入是“赵本山”,以下是我生成的3组Midjourney提示词:\\n\\n{\\n  \"prompts\": [\\n    \"中年男子,皮肤黝黑,眼神犀利,着一件旧夹克,坐在一张木椅上表演相声,舞台背景是砖墙和红色帷幕,照明柔和,模糊的观众席,舞台正中央,单人特写,--ar 16:9 --q 2\",\\n    \"笑脸多层叠影,五官扭曲变形,颜色鲜艳,如梦如幻,意向模糊,极富动感,立体主义和超现实主义融合,充满激情--ar 1:1 --q 2\", \\n    \"老年男子,头戴软帽,穿中山装,坐在凳子上说相声,舞台背景是古镇夜景,角度侧面仰视,台下观众席里坐满了人,场景热闹,色调昏黄--ar 9:16 --q 2\"\\n  ]\\n}'"
      ]
     },
     "execution_count": 6,
     "metadata": {},
     "output_type": "execute_result"
    }
   ],
   "source": [
    "llm_chain_cn.predict(input=\"赵本山\", number=3, language=\"Chinese\")"
   ]
  },
  {
   "cell_type": "code",
   "execution_count": null,
   "id": "7fd7a54e-b6fd-4a5e-88af-c95b933fbf93",
   "metadata": {},
   "outputs": [],
   "source": []
  }
 ],
 "metadata": {
  "kernelspec": {
   "display_name": "conda_python3",
   "language": "python",
   "name": "conda_python3"
  },
  "language_info": {
   "codemirror_mode": {
    "name": "ipython",
    "version": 3
   },
   "file_extension": ".py",
   "mimetype": "text/x-python",
   "name": "python",
   "nbconvert_exporter": "python",
   "pygments_lexer": "ipython3",
   "version": "3.10.13"
  }
 },
 "nbformat": 4,
 "nbformat_minor": 5
}
