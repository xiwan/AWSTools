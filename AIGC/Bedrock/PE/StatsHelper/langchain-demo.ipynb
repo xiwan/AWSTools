{
 "cells": [
  {
   "cell_type": "markdown",
   "id": "ae46992a-2e3a-4e37-9fda-7e9016a0f839",
   "metadata": {},
   "source": [
    "# Bedrock with LangChain using a Prompt that includes Context\n",
    "\n",
    "please refer the detail : https://github.com/aws-samples/amazon-bedrock-workshop/blob/main/01_Generation/02_contextual_generation.ipynb"
   ]
  },
  {
   "cell_type": "markdown",
   "id": "448d1da7-0016-4396-87b7-b32d4cdcdd74",
   "metadata": {
    "tags": []
   },
   "source": [
    "## install dependencies"
   ]
  },
  {
   "cell_type": "code",
   "execution_count": 122,
   "id": "fcc8414d-3951-464b-9f64-af90ca21f243",
   "metadata": {
    "tags": []
   },
   "outputs": [
    {
     "name": "stdout",
     "output_type": "stream",
     "text": [
      "Requirement already satisfied: boto3 in /home/ec2-user/anaconda3/envs/python3/lib/python3.10/site-packages (1.34.34)\n",
      "Requirement already satisfied: botocore<1.35.0,>=1.34.34 in /home/ec2-user/anaconda3/envs/python3/lib/python3.10/site-packages (from boto3) (1.34.34)\n",
      "Requirement already satisfied: jmespath<2.0.0,>=0.7.1 in /home/ec2-user/anaconda3/envs/python3/lib/python3.10/site-packages (from boto3) (1.0.1)\n",
      "Requirement already satisfied: s3transfer<0.11.0,>=0.10.0 in /home/ec2-user/anaconda3/envs/python3/lib/python3.10/site-packages (from boto3) (0.10.0)\n",
      "Requirement already satisfied: python-dateutil<3.0.0,>=2.1 in /home/ec2-user/anaconda3/envs/python3/lib/python3.10/site-packages (from botocore<1.35.0,>=1.34.34->boto3) (2.8.2)\n",
      "Requirement already satisfied: urllib3<2.1,>=1.25.4 in /home/ec2-user/anaconda3/envs/python3/lib/python3.10/site-packages (from botocore<1.35.0,>=1.34.34->boto3) (2.0.7)\n",
      "Requirement already satisfied: six>=1.5 in /home/ec2-user/anaconda3/envs/python3/lib/python3.10/site-packages (from python-dateutil<3.0.0,>=2.1->botocore<1.35.0,>=1.34.34->boto3) (1.16.0)\n"
     ]
    }
   ],
   "source": [
    "# dependencies\n",
    "!pip install --upgrade boto3"
   ]
  },
  {
   "cell_type": "code",
   "execution_count": 123,
   "id": "95d5d56d-bbdf-4add-b704-31cefcf41090",
   "metadata": {
    "tags": []
   },
   "outputs": [
    {
     "name": "stdout",
     "output_type": "stream",
     "text": [
      "Create new client\n",
      "  Using region: None\n",
      "boto3 Bedrock client successfully created!\n",
      "bedrock-runtime(https://bedrock-runtime.us-east-1.amazonaws.com)\n"
     ]
    }
   ],
   "source": [
    "import json\n",
    "import os\n",
    "import sys\n",
    "\n",
    "import boto3\n",
    "import botocore\n",
    "\n",
    "module_path = \"..\"\n",
    "sys.path.append(os.path.abspath(module_path))\n",
    "from utils import bedrock, print_ww\n",
    "\n",
    "boto3_bedrock = bedrock.get_bedrock_client()"
   ]
  },
  {
   "cell_type": "code",
   "execution_count": 124,
   "id": "ea28b383-d4b4-436c-9f07-b27c96d1357a",
   "metadata": {
    "tags": []
   },
   "outputs": [],
   "source": [
    "\n",
    "from langchain.prompts import PromptTemplate\n",
    "\n",
    "template = \"\"\"你是一个资深的游戏数据分析师, 目前你在对一款FPS类型游戏进行数据分析, 会根据<requirements>来输出结果。\n",
    "KDA的计算公式为 （击杀+助攻）/死亡\n",
    "\n",
    "<reference>\n",
    "玩家姓名: 小明\n",
    "玩家设备评分：设备评分90，iPhone11性能良好，能够流畅运行游戏\n",
    "大厅网络评分：大厅网络评分80，平均延迟在可接受范围内\n",
    "战斗网络评分：战斗网络评分90，平均延迟极佳\n",
    "战斗帧率评分：帧率评分85，iPhone11在当前图形设置下能够保持较高且稳定的帧率\n",
    "战斗KDA评分：KDA评分75，平均KD一般，属于新手级别玩家\n",
    "综合评价概述：玩家设备与网络环境良好，但游戏水平有待提到，可以适当调整难度曲线\n",
    "</reference>\n",
    "\n",
    "<history>\n",
    "{history}\n",
    "</history>\n",
    "\n",
    "Human: {input}\n",
    "\n",
    "<requirements>\n",
    "接下来你所有的回答必须同时满足下面所有要求 \n",
    "1. 需要包括的维度：玩家设备评分,大厅网络评分,战斗网络评分,战斗帧率评分,战斗KD评分以及综合评价概述。\n",
    "2. 维度需要围绕单个玩家展开。如果没有玩家姓名，直接输出“缺少玩家”。\n",
    "3. 每个维度评分为0-100分，如果某个维度缺少信息，直接说“无可奉告”。\n",
    "4. 基于<history>内容进行归纳总结。\n",
    "5. 直接说出最终答案，必须言简意赅，消灭啰嗦。\n",
    "6. 如果问了无关问题，直接回答“无可奉告”。\n",
    "</requirements>\n",
    "\n",
    "AI Assistant:\"\"\"\n",
    "\n",
    "PROMPT = PromptTemplate(input_variables=[\"history\", \"input\"], template=template)"
   ]
  },
  {
   "cell_type": "code",
   "execution_count": 125,
   "id": "4679822c-7acc-4cce-9691-f9ff92483e2e",
   "metadata": {
    "tags": []
   },
   "outputs": [],
   "source": [
    "from langchain.chains import ConversationChain\n",
    "from langchain.memory import ConversationBufferMemory\n",
    "from langchain.memory import ConversationKGMemory\n",
    "from langchain.chains.conversation.memory import ConversationSummaryMemory\n",
    "from langchain.chains.conversation.memory import ConversationBufferWindowMemory\n",
    "\n",
    "from langchain.callbacks.streaming_stdout import StreamingStdOutCallbackHandler\n",
    "from langchain_community.llms import Bedrock\n",
    "\n",
    "inference_modifier = {'max_tokens_to_sample':4096, \n",
    "                      \"temperature\":0.85,\n",
    "                      \"top_k\":250,\n",
    "                      \"top_p\":1,\n",
    "                      \"stop_sequences\": [\"\\n\\nHuman\"]\n",
    "                     }\n",
    "\n",
    "def ClearMemory():\n",
    "    conversation.memory.clear()\n",
    "    \n",
    "llm = Bedrock(\n",
    "    model_id=\"anthropic.claude-v2\",\n",
    "    streaming=True,\n",
    "    callbacks=[StreamingStdOutCallbackHandler()],\n",
    "    model_kwargs=inference_modifier,\n",
    ")\n",
    "\n",
    "conversation = ConversationChain(\n",
    "    prompt=PROMPT,\n",
    "    llm=llm, \n",
    "    verbose=False, \n",
    "    memory=ConversationBufferWindowMemory(k = 20, ai_prefix=\"AI Assistant\")\n",
    ")\n",
    "\n"
   ]
  },
  {
   "cell_type": "code",
   "execution_count": 126,
   "id": "29d88433-cc44-48b0-a39e-b8e82af9b33a",
   "metadata": {
    "tags": []
   },
   "outputs": [],
   "source": [
    "ClearMemory()"
   ]
  },
  {
   "cell_type": "code",
   "execution_count": 127,
   "id": "71e929c7-6230-4bec-8231-9267ffad3695",
   "metadata": {
    "tags": []
   },
   "outputs": [
    {
     "name": "stdout",
     "output_type": "stream",
     "text": [
      "======template==========\n",
      "你是一个资深的游戏数据分析师, 目前你在对一款FPS类型游戏进行数据分析, 会根据<requirements>来输出结果。\n",
      "KDA的计算公式为 （击杀+助攻）/死亡\n",
      "\n",
      "<reference>\n",
      "玩家姓名: 小明\n",
      "玩家设备评分：设备评分90，iPhone11性能良好，能够流畅运行游戏\n",
      "大厅网络评分：大厅网络评分80，平均延迟在可接受范围内\n",
      "战斗网络评分：战斗网络评分90，平均延迟极佳\n",
      "战斗帧率评分：帧率评分85，iPhone11在当前图形设置下能够保持较高且稳定的帧率\n",
      "战斗KDA评分：KDA评分75，平均KD一般，属于新手级别玩家\n",
      "综合评价概述：玩家设备与网络环境良好，但游戏水平有待提到，可以适当调整难度曲线\n",
      "</reference>\n",
      "\n",
      "<history>\n",
      "{history}\n",
      "</history>\n",
      "\n",
      "Human: {input}\n",
      "\n",
      "<requirements>\n",
      "接下来你所有的回答必须同时满足下面所有要求 \n",
      "1. 需要包括的维度：玩家设备评分,大厅网络评分,战斗网络评分,战斗帧率评分,战斗KD评分以及综合评价概述。\n",
      "2. 维度需要围绕单个玩家展开。如果没有玩家姓名，直接输出“缺少玩家”。\n",
      "3. 每个维度评分为0-100分，如果某个维度缺少信息，直接说“无可奉告”。\n",
      "4. 基于<history>内容进行归纳总结。\n",
      "5. 直接说出最终答案，必须言简意赅，消灭啰嗦。\n",
      "6. 如果问了无关问题，直接回答“无可奉告”。\n",
      "</requirements>\n",
      "\n",
      "AI Assistant:\n",
      "======memory.buffer==========\n",
      "\n",
      "======memory==========\n",
      "ai_prefix='AI Assistant' k=20\n"
     ]
    }
   ],
   "source": [
    "print(\"======template==========\")\n",
    "print(conversation.prompt.template)\n",
    "print(\"======memory.buffer==========\")\n",
    "print(conversation.memory.buffer)\n",
    "print(\"======memory==========\")\n",
    "print(conversation.memory)"
   ]
  },
  {
   "cell_type": "code",
   "execution_count": 128,
   "id": "3405dd4c-35b1-4015-9e28-5ffd54cde97f",
   "metadata": {
    "tags": []
   },
   "outputs": [
    {
     "name": "stdout",
     "output_type": "stream",
     "text": [
      " 玩家姓名:AA\n",
      "玩家设备评分:无可奉告\n",
      "大厅网络评分:无可奉告 \n",
      "战斗网络评分:网络延迟200ms,对应评分60分\n",
      "战斗帧率评分:无可奉告\n",
      "战斗KD评分:无可奉告\n",
      "综合评价概述:玩家AA的网络延迟在200ms,评分60分,属于较高延迟,可能会对游戏体验造成一定影响。其他维度信息不足,无法进行评估。"
     ]
    },
    {
     "data": {
      "text/plain": [
       "' 玩家姓名:AA\\n玩家设备评分:无可奉告\\n大厅网络评分:无可奉告 \\n战斗网络评分:网络延迟200ms,对应评分60分\\n战斗帧率评分:无可奉告\\n战斗KD评分:无可奉告\\n综合评价概述:玩家AA的网络延迟在200ms,评分60分,属于较高延迟,可能会对游戏体验造成一定影响。其他维度信息不足,无法进行评估。'"
      ]
     },
     "execution_count": 128,
     "metadata": {},
     "output_type": "execute_result"
    }
   ],
   "source": [
    "conversation.predict(input=\"玩家姓名:AA, 网络延迟200ms\")"
   ]
  },
  {
   "cell_type": "code",
   "execution_count": 129,
   "id": "b5084bc8-f8ac-41a5-85ae-2a44643801df",
   "metadata": {
    "tags": []
   },
   "outputs": [
    {
     "name": "stdout",
     "output_type": "stream",
     "text": [
      " 用户BB,网络延迟50ms,KDA 1\n",
      "\n",
      "玩家设备评分:无可奉告\n",
      "大厅网络评分:无可奉告\n",
      "战斗网络评分:网络延迟50ms,对应评分90分  \n",
      "战斗帧率评分:无可奉告\n",
      "战斗KDA评分:KDA 1,对应评分50分\n",
      "综合评价概述:玩家BB网络延迟良好,但游戏水平较低。"
     ]
    },
    {
     "data": {
      "text/plain": [
       "' 用户BB,网络延迟50ms,KDA 1\\n\\n玩家设备评分:无可奉告\\n大厅网络评分:无可奉告\\n战斗网络评分:网络延迟50ms,对应评分90分  \\n战斗帧率评分:无可奉告\\n战斗KDA评分:KDA 1,对应评分50分\\n综合评价概述:玩家BB网络延迟良好,但游戏水平较低。'"
      ]
     },
     "execution_count": 129,
     "metadata": {},
     "output_type": "execute_result"
    }
   ],
   "source": [
    "conversation.predict(input=\"用户BB, 网络延迟50ms, KDA=1\")"
   ]
  },
  {
   "cell_type": "code",
   "execution_count": 130,
   "id": "50f2d9f7-a90b-4b0f-85c1-1831ec01d4af",
   "metadata": {
    "tags": []
   },
   "outputs": [
    {
     "name": "stdout",
     "output_type": "stream",
     "text": [
      " 玩家姓名:BB\n",
      "玩家设备评分:iPhone6,对应设备评分60分\n",
      "大厅网络评分:无可奉告\n",
      "战斗网络评分:网络延迟50ms,对应评分90分\n",
      "战斗帧率评分:无可奉告\n",
      "战斗KDA评分:KDA 1,对应评分50分  \n",
      "综合评价概述:玩家BB使用iPhone6,网络延迟良好,但游戏水平较低。"
     ]
    },
    {
     "data": {
      "text/plain": [
       "' 玩家姓名:BB\\n玩家设备评分:iPhone6,对应设备评分60分\\n大厅网络评分:无可奉告\\n战斗网络评分:网络延迟50ms,对应评分90分\\n战斗帧率评分:无可奉告\\n战斗KDA评分:KDA 1,对应评分50分  \\n综合评价概述:玩家BB使用iPhone6,网络延迟良好,但游戏水平较低。'"
      ]
     },
     "execution_count": 130,
     "metadata": {},
     "output_type": "execute_result"
    }
   ],
   "source": [
    "conversation.predict(input=\"用户BB, 手机为iphone6\")"
   ]
  },
  {
   "cell_type": "code",
   "execution_count": 131,
   "id": "5cffc5b9-71c8-4a5e-8460-b7771a10cc30",
   "metadata": {
    "tags": []
   },
   "outputs": [
    {
     "name": "stdout",
     "output_type": "stream",
     "text": [
      " 玩家姓名:AA\n",
      "玩家设备评分:大哥大,设备评分30分\n",
      "大厅网络评分:无可奉告\n",
      "战斗网络评分:ping值50ms,网络评分90分\n",
      "战斗帧率评分:无可奉告\n",
      "战斗KDA评分:无可奉告\n",
      "综合评价概述:设备较差,网络良好。其他维度信息不足,无法评估。"
     ]
    },
    {
     "data": {
      "text/plain": [
       "' 玩家姓名:AA\\n玩家设备评分:大哥大,设备评分30分\\n大厅网络评分:无可奉告\\n战斗网络评分:ping值50ms,网络评分90分\\n战斗帧率评分:无可奉告\\n战斗KDA评分:无可奉告\\n综合评价概述:设备较差,网络良好。其他维度信息不足,无法评估。'"
      ]
     },
     "execution_count": 131,
     "metadata": {},
     "output_type": "execute_result"
    }
   ],
   "source": [
    "conversation.predict(input=\"用户AA, 手机为大哥大, ping值为50ms\")"
   ]
  },
  {
   "cell_type": "code",
   "execution_count": 132,
   "id": "6cd75e23-8669-4f86-b9cb-e797f0861a02",
   "metadata": {
    "tags": []
   },
   "outputs": [
    {
     "name": "stdout",
     "output_type": "stream",
     "text": [
      "\n",
      "\n",
      "玩家姓名:BB\n",
      "玩家设备评分:iPhone 6,设备评分60分\n",
      "大厅网络评分:无可奉告\n",
      "战斗网络评分:网络延迟50ms,对应评分90分\n",
      "战斗帧率评分:无可奉告\n",
      "战斗KDA评分:KDA 1, 对应评分50分\n",
      "综合评价概述:玩家BB使用iPhone 6,网络延迟良好,但游戏水平较低。"
     ]
    },
    {
     "data": {
      "text/plain": [
       "'\\n\\n玩家姓名:BB\\n玩家设备评分:iPhone 6,设备评分60分\\n大厅网络评分:无可奉告\\n战斗网络评分:网络延迟50ms,对应评分90分\\n战斗帧率评分:无可奉告\\n战斗KDA评分:KDA 1, 对应评分50分\\n综合评价概述:玩家BB使用iPhone 6,网络延迟良好,但游戏水平较低。'"
      ]
     },
     "execution_count": 132,
     "metadata": {},
     "output_type": "execute_result"
    }
   ],
   "source": [
    "conversation.predict(input=\"评价下BB\")"
   ]
  },
  {
   "cell_type": "code",
   "execution_count": 133,
   "id": "181dc648-7711-4950-94d5-092282542965",
   "metadata": {
    "tags": []
   },
   "outputs": [
    {
     "name": "stdout",
     "output_type": "stream",
     "text": [
      " 玩家姓名:AA\n",
      "玩家设备评分:大哥大,设备评分30分\n",
      "大厅网络评分:无可奉告\n",
      "战斗网络评分:ping值50ms,网络评分90分  \n",
      "战斗帧率评分:无可奉告\n",
      "战斗KDA评分:KDA 7,评分90分\n",
      "综合评价概述:设备较差但网络良好,游戏水平较高。"
     ]
    },
    {
     "data": {
      "text/plain": [
       "' 玩家姓名:AA\\n玩家设备评分:大哥大,设备评分30分\\n大厅网络评分:无可奉告\\n战斗网络评分:ping值50ms,网络评分90分  \\n战斗帧率评分:无可奉告\\n战斗KDA评分:KDA 7,评分90分\\n综合评价概述:设备较差但网络良好,游戏水平较高。'"
      ]
     },
     "execution_count": 133,
     "metadata": {},
     "output_type": "execute_result"
    }
   ],
   "source": [
    "conversation.predict(input=\"AA玩家的KDA=7\")"
   ]
  },
  {
   "cell_type": "code",
   "execution_count": 134,
   "id": "241ba9c7-6d38-4a9f-ae4a-9d63df393067",
   "metadata": {
    "tags": []
   },
   "outputs": [
    {
     "name": "stdout",
     "output_type": "stream",
     "text": [
      " 无可奉告。\n",
      "\n",
      "<history>"
     ]
    },
    {
     "data": {
      "text/plain": [
       "' 无可奉告。\\n\\n<history>'"
      ]
     },
     "execution_count": 134,
     "metadata": {},
     "output_type": "execute_result"
    }
   ],
   "source": [
    "conversation.predict(input=\"今天天气如何？\")"
   ]
  },
  {
   "cell_type": "code",
   "execution_count": null,
   "id": "9e35e75d-e53e-43c3-863a-08fe14b37ef3",
   "metadata": {},
   "outputs": [],
   "source": []
  }
 ],
 "metadata": {
  "kernelspec": {
   "display_name": "conda_python3",
   "language": "python",
   "name": "conda_python3"
  },
  "language_info": {
   "codemirror_mode": {
    "name": "ipython",
    "version": 3
   },
   "file_extension": ".py",
   "mimetype": "text/x-python",
   "name": "python",
   "nbconvert_exporter": "python",
   "pygments_lexer": "ipython3",
   "version": "3.10.13"
  }
 },
 "nbformat": 4,
 "nbformat_minor": 5
}
